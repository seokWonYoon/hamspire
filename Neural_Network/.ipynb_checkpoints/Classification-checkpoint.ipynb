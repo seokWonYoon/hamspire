{
 "cells": [
  {
   "cell_type": "code",
   "execution_count": 1,
   "metadata": {},
   "outputs": [],
   "source": [
    "# 털과 날개의 유무에 따라 포유류와 조류를 분류하는 신경망 모델\n",
    "import tensorflow as tf\n",
    "import numpy as np"
   ]
  },
  {
   "cell_type": "code",
   "execution_count": 2,
   "metadata": {},
   "outputs": [
    {
     "data": {
      "text/plain": [
       "'\\n[기타, 포유류, 조류] 의 인덱스값은 기타 = 0, 포유류=1, 조류=2 를\\n원핫인코딩 형식으로 만들면 \\n기타 = [1,0,0]\\n포유류 = [0,1,0]\\n조류 = [0,0,1]\\n각 종류에 해당하는 인덱스 값만 1로 설정하고 나머지는 0으로 채우는 것\\n'"
      ]
     },
     "execution_count": 2,
     "metadata": {},
     "output_type": "execute_result"
    }
   ],
   "source": [
    "x_data = np.array(\n",
    "    [[0,0],\n",
    "     [1,0],\n",
    "     [1,1],\n",
    "     [0,0],\n",
    "     [0,0],\n",
    "     [0,1]])\n",
    "# [기타, 포유류, 조류]\n",
    "\"\"\"\n",
    "[기타, 포유류, 조류] 의 인덱스값은 기타 = 0, 포유류=1, 조류=2 를\n",
    "원핫인코딩 형식으로 만들면 \n",
    "기타 = [1,0,0]\n",
    "포유류 = [0,1,0]\n",
    "조류 = [0,0,1]\n",
    "각 종류에 해당하는 인덱스 값만 1로 설정하고 나머지는 0으로 채우는 것\n",
    "\"\"\""
   ]
  },
  {
   "cell_type": "code",
   "execution_count": 3,
   "metadata": {},
   "outputs": [
    {
     "data": {
      "text/plain": [
       "'\\n[털, 날개] -> [기타 , 포유루, 조류]\\n[0,0] -> [1,0,0] # 기타\\n[1,0] -> [0,1,0] # 포유류\\n[1,1] -> [0,0,1] # 조류\\n[0,0] -> [1,0,0] # 기타\\n[0,0] -> [1,0,0] # 기타\\n[0,1] -> [0,0,1] # 조류\\n'"
      ]
     },
     "execution_count": 3,
     "metadata": {},
     "output_type": "execute_result"
    }
   ],
   "source": [
    "y_data = np.array([\n",
    "    [1,0,0], # 기타\n",
    "    [0,1,0], # 포유류\n",
    "    [0,0,1], # 조류\n",
    "    [1,0,0],\n",
    "    [1,0,0],\n",
    "    [0,0,1]\n",
    "    ])\n",
    "\"\"\"\n",
    "[털, 날개] -> [기타 , 포유루, 조류]\n",
    "[0,0] -> [1,0,0] # 기타\n",
    "[1,0] -> [0,1,0] # 포유류\n",
    "[1,1] -> [0,0,1] # 조류\n",
    "[0,0] -> [1,0,0] # 기타\n",
    "[0,0] -> [1,0,0] # 기타\n",
    "[0,1] -> [0,0,1] # 조류\n",
    "\"\"\""
   ]
  },
  {
   "cell_type": "code",
   "execution_count": 4,
   "metadata": {},
   "outputs": [
    {
     "data": {
      "text/plain": [
       "<tf.Operation 'GradientDescent' type=NoOp>"
      ]
     },
     "execution_count": 4,
     "metadata": {},
     "output_type": "execute_result"
    }
   ],
   "source": [
    "# *******\n",
    "# 신경망 모델 구성\n",
    "# *******\n",
    "X = tf.placeholder(tf.float32)\n",
    "Y = tf.placeholder(tf.float32)\n",
    "# 신경망은 [입력층, 출력층] 구성됨\n",
    "# 입력층은 feature , 출력층은 label \n",
    "# 예를 들어 입력층에는 털, 날개 ... 출력층에는 포유류, 조류가 출력됨\n",
    "W = tf.Variable(tf.random_uniform([2,3], -1, 1.)) # -1 은 all\n",
    "# 편향은 각 레이어의 아웃풋 갯수\n",
    "# 현재 예제에서는 최종 결과값 분류종류인 3으로 설정\n",
    "b = tf.Variable(tf.zeros([3]))\n",
    "# 신경망에 가중치 W 와 편향 b 를 적용\n",
    "L = tf.add(tf.matmul(X,W), b)\n",
    "# 텐서플로우에서 기본적으로 제공하는 활성화 함수인 ReLU 함수 적용\n",
    "L = tf.nn.relu(L)\n",
    "# softmax 함수를 이용하여 출력값을 사용하기 쉽게 전환\n",
    "# softmax 함수는 결과값을 전체값이 1인 확률로 만드는 함수(스케일)\n",
    "model = tf.nn.softmax(L)\n",
    "model\n",
    "# <tf.Tensor 'Softmax:0' shape=(?, 3) dtype=float32>\n",
    "# 신경망을 최적화하기 위한 비용 함수 작성\n",
    "# 각 개별 결과에 대한 합을 구한 뒤 평균을 내는 방식 사용\n",
    "# 전체 합이 아닌, 개별 결과를 구한 뒤 평균을 내는 방식을 사용하기 때문에\n",
    "# axis 옵션을 사용함. axis 옵션이 없으면 총합인 스칼라값이 출력됨\n",
    "\"\"\"\n",
    "#        Y         model         Y * tf.log(model)   reduce_sum(axis=1)\n",
    "# 예) [[1 0 0]  [[0.1 0.7 0.2]  -> [[-1.0  0    0]  -> [-1.0, -0.09]\n",
    "#     [0 1 0]]  [0.2 0.8 0.0]]     [ 0   -0.09 0]]\n",
    "\"\"\"\n",
    "cost = tf.reduce_mean(-tf.reduce_sum(Y * tf.log(model), axis=1)) # 크로스 엔트로피 적용한 식\n",
    "# 크로스 엔트로피란 예측값과 실제값 사이의 확률 분포의 차이를 비용으로 계산한 값\n",
    "optimizer = tf.train.GradientDescentOptimizer(learning_rate=0.01)\n",
    "train_op = optimizer.minimize(cost)\n",
    "train_op\n",
    "# <tf.Operation 'GradientDescent' type=NoOp>"
   ]
  },
  {
   "cell_type": "code",
   "execution_count": 5,
   "metadata": {},
   "outputs": [
    {
     "name": "stdout",
     "output_type": "stream",
     "text": [
      "10 1.2123072\n",
      "20 1.2071521\n",
      "30 1.202088\n",
      "40 1.1971122\n",
      "50 1.1922227\n",
      "60 1.1874175\n",
      "70 1.1826943\n",
      "80 1.1780511\n",
      "90 1.1734862\n",
      "100 1.1689972\n"
     ]
    }
   ],
   "source": [
    "# **********\n",
    "# 신경망 모델 학습\n",
    "# **********\n",
    "init = tf.global_variables_initializer()\n",
    "sess = tf.Session()\n",
    "sess.run(init)\n",
    "for step in range(100):\n",
    "    sess.run(train_op, feed_dict={X: x_data, Y: y_data})\n",
    "    if(step + 1) % 10 == 0:\n",
    "        print(step +1, sess.run(cost, feed_dict={X: x_data, Y: y_data}))"
   ]
  },
  {
   "cell_type": "code",
   "execution_count": 6,
   "metadata": {},
   "outputs": [
    {
     "name": "stdout",
     "output_type": "stream",
     "text": [
      "예측값:  [0 2 1 0 0 1]\n",
      "실제값:  [0 1 2 0 0 2]\n",
      "정확도: 50.00\n"
     ]
    }
   ],
   "source": [
    "# *****\n",
    "# 결과 확인\n",
    "# 0 : 기타, 1: 포유류, 2: 조류\n",
    "# *****\n",
    "prediction = tf.argmax(model, 1)\n",
    "target = tf.argmax(Y, 1)\n",
    "print('예측값: ', sess.run(prediction, feed_dict={X: x_data}))\n",
    "print('실제값: ', sess.run(target, feed_dict={Y: y_data}))\n",
    "is_correct = tf.equal(prediction, target)\n",
    "accuracy = tf.reduce_mean(tf.cast(is_correct, tf.float32))\n",
    "print('정확도: %.2f' % sess.run(accuracy * 100, feed_dict={X: x_data, Y: y_data}))\n",
    "# 정확도: 16.67"
   ]
  }
 ],
 "metadata": {
  "kernelspec": {
   "display_name": "Python 3",
   "language": "python",
   "name": "python3"
  },
  "language_info": {
   "codemirror_mode": {
    "name": "ipython",
    "version": 3
   },
   "file_extension": ".py",
   "mimetype": "text/x-python",
   "name": "python",
   "nbconvert_exporter": "python",
   "pygments_lexer": "ipython3",
   "version": "3.6.7"
  }
 },
 "nbformat": 4,
 "nbformat_minor": 2
}
