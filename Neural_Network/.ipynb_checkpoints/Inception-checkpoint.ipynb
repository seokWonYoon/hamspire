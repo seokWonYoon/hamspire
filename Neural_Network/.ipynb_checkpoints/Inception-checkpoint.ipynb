{
 "cells": [
  {
   "cell_type": "code",
   "execution_count": null,
   "metadata": {},
   "outputs": [],
   "source": [
    "import tensorflow as tf\n",
    "# import numpy as np\n",
    "import matplotlib.pyplot as plt\n",
    "import matplotlib.image as mpimg\n",
    "import sys"
   ]
  },
  {
   "cell_type": "code",
   "execution_count": null,
   "metadata": {},
   "outputs": [],
   "source": [
    "tf.app.flags.DEFINE_string(\"output_graph\",\n",
    "                           \"*/workspace/flowers_graph.pb\",\n",
    "                           \"학습된 신경망이 저장된 위치\")\n",
    "tf.app.flags.DEFINE_string(\"output_labels\",\n",
    "                           \"./workspace/flowers_labels.txt\",\n",
    "                           \"학습할 레이블 데이터 파일\")\n",
    "tf.app.flags.DEFINE_boolean(\"show_image\",\n",
    "                            True,\n",
    "                            \"이미지 추론 후 이미지를 보여줍니다.\")\n",
    "\n",
    "FLAGS = tf.app.flags.FLAGS"
   ]
  },
  {
   "cell_type": "code",
   "execution_count": null,
   "metadata": {},
   "outputs": [],
   "source": [
    "def main(_):\n",
    "    labels = [line.rstrip() for line in tf.gfile.GFile(FLAGS.output_labels)]\n",
    "\n",
    "    with tf.gfile.FastGFile(FLAGS.output_graph, 'rb') as fp:\n",
    "        graph_def = tf.GraphDef()\n",
    "        graph_def.ParseFromString(fp.read())\n",
    "        tf.import_graph_def(graph_def, name='')\n",
    "\n",
    "    with tf.Session() as sess:\n",
    "        logits = sess.graph.get_tensor_by_name('final_result:0')\n",
    "        image = tf.gfile.FastGFile(sys.argv[1], 'rb').read()\n",
    "        prediction = sess.run(logits, {'DecodeJpeg/contents:0': image})\n",
    "\n",
    "\n",
    "\n",
    "    print('=== 예측 결과 ===')\n",
    "    for i in range(len(labels)):\n",
    "        name = labels[i]\n",
    "        score = prediction[0][i]\n",
    "        print('%s (%.2f%%)' % (name, score * 100))\n",
    "\n",
    "    if FLAGS.show_image:\n",
    "        img = mpimg.imread(sys.argv[1])\n",
    "        plt.imshow(img)\n",
    "        plt.show()\n",
    "\n",
    "\n",
    "if __name__ == \"__main__\":\n",
    "    tf.app.run()"
   ]
  }
 ],
 "metadata": {
  "kernelspec": {
   "display_name": "Python 3",
   "language": "python",
   "name": "python3"
  },
  "language_info": {
   "codemirror_mode": {
    "name": "ipython",
    "version": 3
   },
   "file_extension": ".py",
   "mimetype": "text/x-python",
   "name": "python",
   "nbconvert_exporter": "python",
   "pygments_lexer": "ipython3",
   "version": "3.6.7"
  }
 },
 "nbformat": 4,
 "nbformat_minor": 2
}
