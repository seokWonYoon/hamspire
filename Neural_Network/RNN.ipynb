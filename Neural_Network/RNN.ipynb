{
 "cells": [
  {
   "cell_type": "code",
   "execution_count": 1,
   "metadata": {},
   "outputs": [
    {
     "name": "stdout",
     "output_type": "stream",
     "text": [
      "WARNING:tensorflow:From <ipython-input-1-7d58ddba3fe7>:16: read_data_sets (from tensorflow.contrib.learn.python.learn.datasets.mnist) is deprecated and will be removed in a future version.\n",
      "Instructions for updating:\n",
      "Please use alternatives such as official/mnist/dataset.py from tensorflow/models.\n",
      "WARNING:tensorflow:From C:\\Users\\ezen\\Anaconda3\\lib\\site-packages\\tensorflow\\contrib\\learn\\python\\learn\\datasets\\mnist.py:260: maybe_download (from tensorflow.contrib.learn.python.learn.datasets.base) is deprecated and will be removed in a future version.\n",
      "Instructions for updating:\n",
      "Please write your own downloading logic.\n",
      "WARNING:tensorflow:From C:\\Users\\ezen\\Anaconda3\\lib\\site-packages\\tensorflow\\contrib\\learn\\python\\learn\\datasets\\mnist.py:262: extract_images (from tensorflow.contrib.learn.python.learn.datasets.mnist) is deprecated and will be removed in a future version.\n",
      "Instructions for updating:\n",
      "Please use tf.data to implement this functionality.\n",
      "Extracting ./mnist/data/train-images-idx3-ubyte.gz\n",
      "WARNING:tensorflow:From C:\\Users\\ezen\\Anaconda3\\lib\\site-packages\\tensorflow\\contrib\\learn\\python\\learn\\datasets\\mnist.py:267: extract_labels (from tensorflow.contrib.learn.python.learn.datasets.mnist) is deprecated and will be removed in a future version.\n",
      "Instructions for updating:\n",
      "Please use tf.data to implement this functionality.\n",
      "Extracting ./mnist/data/train-labels-idx1-ubyte.gz\n",
      "WARNING:tensorflow:From C:\\Users\\ezen\\Anaconda3\\lib\\site-packages\\tensorflow\\contrib\\learn\\python\\learn\\datasets\\mnist.py:110: dense_to_one_hot (from tensorflow.contrib.learn.python.learn.datasets.mnist) is deprecated and will be removed in a future version.\n",
      "Instructions for updating:\n",
      "Please use tf.one_hot on tensors.\n",
      "Extracting ./mnist/data/t10k-images-idx3-ubyte.gz\n",
      "Extracting ./mnist/data/t10k-labels-idx1-ubyte.gz\n",
      "WARNING:tensorflow:From C:\\Users\\ezen\\Anaconda3\\lib\\site-packages\\tensorflow\\contrib\\learn\\python\\learn\\datasets\\mnist.py:290: DataSet.__init__ (from tensorflow.contrib.learn.python.learn.datasets.mnist) is deprecated and will be removed in a future version.\n",
      "Instructions for updating:\n",
      "Please use alternatives such as official/mnist/dataset.py from tensorflow/models.\n"
     ]
    }
   ],
   "source": [
    "\"\"\" 딥 러닝이 부활한 이유\n",
    "첫 번 째는\n",
    "1989년 신경망 학습에 소요되는 시간(10 개의 숫자를 인식하기 위해 학습하는 시간)이 거의 3일이 걸렸음.\n",
    " 제프리 힌튼이 트레이닝셋에 너무 가깝게 맞추어 학습되는 과적합 (Overfitting) 문제를 \n",
    " 사전훈련(pre-trainning)하여 과적합을 방지\n",
    " 2013년에는  과적합을 방지할 수 있는 Drop-out[14] 이라는 개념이 소개되면서 \n",
    " 사전훈련 보다 훨씬 더 간단하고 강력한 형태로 과적합을 방지\n",
    " 두 번 째는 강력한 GPU는 딥 러닝에서 복잡한 행렬 연산에 소요되는 시간을 크게 단축\n",
    " 세번째는 빅 데이터\n",
    "\"\"\"\n",
    "import tensorflow as tf\n",
    "import numpy as np\n",
    "from tensorflow.examples.tutorials.mnist import input_data\n",
    "import matplotlib.pyplot as plt\n",
    "from tensorflow.examples.tutorials.mnist import input_data\n",
    "mnist = input_data.read_data_sets(\"./mnist/data/\", one_hot=True)"
   ]
  },
  {
   "cell_type": "code",
   "execution_count": 2,
   "metadata": {},
   "outputs": [],
   "source": [
    "# ******\n",
    "# 신경망 모델 구성\n",
    "# ******\n",
    "# 입력값의 차원은 [배치크기, 특성값] 으로 되어 있음\n",
    "# 손글씨 이미지는 28*28 픽셀로 이뤄져있음. 이를 784개의 feature  로 설정함\n",
    "\n",
    "X = tf.placeholder(tf.float32, [None, 784])\n",
    "Y = tf.placeholder(tf.float32, [None, 10]) # 결과는 0 ~ 9 까지 10가지 분류\n",
    "\"\"\"과적합 방지 기법 Dropout 사용\"\"\"\n",
    "keep_prob = tf.placeholder(tf.float32)"
   ]
  },
  {
   "cell_type": "code",
   "execution_count": 3,
   "metadata": {},
   "outputs": [],
   "source": [
    "# 신경망의 레이어 구성\n",
    "# 784(입력 특성값)\n",
    "# -> 256 (히든 레이어 뉴런 갯수) -> 256 \n",
    "# -> 10 (결과값)\n",
    "\n",
    "W1 = tf.Variable(tf.random_normal([784, 256], stddev=0.01))\n",
    "# 입력값에 가중치 곱한후 ReLU 함수를 이용하여 레이어 생성\n",
    "L1 = tf.nn.relu(tf.matmul(X, W1))\n",
    "\n",
    "L1 = tf.nn.dropout(L1, keep_prob) #과적합 방지 기법 Dropout 사용\n",
    "\n",
    "W2 = tf.Variable(tf.random_normal([256, 256], stddev=0.01))\n",
    "# L1에 가중치 곱한후 ReLU 함수를 이용하여 레이어 생성\n",
    "L2 = tf.nn.relu(tf.matmul(L1, W2))\n",
    "L2 = tf.nn.dropout(L2, keep_prob) #과적합 방지 기법 Dropout 사용\n",
    "\n",
    "W3 = tf.Variable(tf.random_normal([256,10], stddev=0.01))\n",
    "# 최종 모델의 출력값은 W3 변수를 곱해 10개의 분류를 가지게 됨\n",
    "\n",
    "model = tf.matmul(L2, W3)\n",
    "\n",
    "cost = tf.reduce_mean(tf.nn.softmax_cross_entropy_with_logits_v2(logits=model, labels=Y))\n",
    "optimizer = tf.train.AdamOptimizer(0.001).minimize(cost)"
   ]
  },
  {
   "cell_type": "code",
   "execution_count": 4,
   "metadata": {},
   "outputs": [
    {
     "name": "stdout",
     "output_type": "stream",
     "text": [
      "Epoch: 0001 Avg. cost = 0.430\n",
      "Epoch: 0002 Avg. cost = 0.166\n",
      "Epoch: 0003 Avg. cost = 0.113\n",
      "Epoch: 0004 Avg. cost = 0.089\n",
      "Epoch: 0005 Avg. cost = 0.074\n",
      "Epoch: 0006 Avg. cost = 0.061\n",
      "Epoch: 0007 Avg. cost = 0.052\n",
      "Epoch: 0008 Avg. cost = 0.046\n",
      "Epoch: 0009 Avg. cost = 0.040\n",
      "Epoch: 0010 Avg. cost = 0.039\n",
      "Epoch: 0011 Avg. cost = 0.036\n",
      "Epoch: 0012 Avg. cost = 0.032\n",
      "Epoch: 0013 Avg. cost = 0.028\n",
      "Epoch: 0014 Avg. cost = 0.027\n",
      "Epoch: 0015 Avg. cost = 0.025\n",
      "Epoch: 0016 Avg. cost = 0.026\n",
      "Epoch: 0017 Avg. cost = 0.023\n",
      "Epoch: 0018 Avg. cost = 0.023\n",
      "Epoch: 0019 Avg. cost = 0.021\n",
      "Epoch: 0020 Avg. cost = 0.022\n",
      "Epoch: 0021 Avg. cost = 0.019\n",
      "Epoch: 0022 Avg. cost = 0.019\n",
      "Epoch: 0023 Avg. cost = 0.020\n",
      "Epoch: 0024 Avg. cost = 0.019\n",
      "Epoch: 0025 Avg. cost = 0.017\n",
      "Epoch: 0026 Avg. cost = 0.018\n",
      "Epoch: 0027 Avg. cost = 0.017\n",
      "Epoch: 0028 Avg. cost = 0.018\n",
      "Epoch: 0029 Avg. cost = 0.016\n",
      "Epoch: 0030 Avg. cost = 0.015\n",
      "최적화 완료\n"
     ]
    }
   ],
   "source": [
    "# ********\n",
    "# 신경망 모델 학습\n",
    "# ********\n",
    "init = tf.global_variables_initializer()\n",
    "sess = tf.Session()\n",
    "sess.run(init)\n",
    "\n",
    "batch_size = 100\n",
    "total_batch = int(mnist.train.num_examples / batch_size)\n",
    "\n",
    "for epoch in range(30):\n",
    "    total_cost = 0\n",
    "    for i in range(total_batch):\n",
    "        # 텐서플로우의 mnist 모델의 next_batch 함수를 이용해\n",
    "        # 지정한 크기만큼의 학습데이터 호출\n",
    "        batch_xs, batch_ys = mnist.train.next_batch(batch_size)\n",
    "        \n",
    "        _, cost_val = sess.run([optimizer, cost], feed_dict={X: batch_xs, Y: batch_ys, keep_prob: 0.8})\n",
    "        # keep_prob 추가 !!\n",
    "        total_cost += cost_val\n",
    "    print('Epoch:', '%0.4d'  % (epoch + 1),\n",
    "          'Avg. cost =', '{:.3f}'.format(total_cost / total_batch))\n",
    "print('최적화 완료')"
   ]
  },
  {
   "cell_type": "code",
   "execution_count": 6,
   "metadata": {},
   "outputs": [
    {
     "name": "stdout",
     "output_type": "stream",
     "text": [
      "정확도 0.9829\n"
     ]
    }
   ],
   "source": [
    "# ******\n",
    "# 결과 확인\n",
    "# *****\n",
    "is_correct = tf.equal(tf.argmax(model, 1), tf.argmax(Y, 1)) # argmax 는 인자값 중 가장 큰 값을 취함\n",
    "accuracy = tf.reduce_mean(tf.cast(is_correct, tf.float32))\n",
    "print('정확도', sess.run(accuracy,\n",
    "                      feed_dict={X: mnist.test.images,\n",
    "                                 Y: mnist.test.labels,\n",
    "                                 keep_prob: 1}))"
   ]
  },
  {
   "cell_type": "code",
   "execution_count": 7,
   "metadata": {},
   "outputs": [
    {
     "data": {
      "image/png": "[encoded data removed]",
      "text/plain": [
       "<Figure size 432x288 with 1 Axes>"
      ]
     },
     "metadata": {},
     "output_type": "display_data"
    }
   ],
   "source": [
    "# ******\n",
    "# 숫자 보기\n",
    "# *****\n",
    "labels = sess.run(model,\n",
    "                  feed_dict={X: mnist.test.images,\n",
    "                             Y: mnist.test.labels,\n",
    "                             keep_prob: 1})\n",
    "\n",
    "fig = plt.figure()\n",
    "for i in range(10):\n",
    "    subplot = fig.add_subplot(2, 5, i+1)\n",
    "    subplot.set_xticks([])\n",
    "    subplot.set_yticks([])\n",
    "    subplot.set_title('%d'  % np.argmax(labels[i]))\n",
    "    subplot.imshow(mnist.test.images[i].reshape((28,28)),\n",
    "                   cmap=plt.cm.gray_r)\n",
    "\n",
    "    plt.show()"
   ]
  }
 ],
 "metadata": {
  "kernelspec": {
   "display_name": "Python 3",
   "language": "python",
   "name": "python3"
  },
  "language_info": {
   "codemirror_mode": {
    "name": "ipython",
    "version": 3
   },
   "file_extension": ".py",
   "mimetype": "text/x-python",
   "name": "python",
   "nbconvert_exporter": "python",
   "pygments_lexer": "ipython3",
   "version": "3.6.7"
  }
 },
 "nbformat": 4,
 "nbformat_minor": 2
}
